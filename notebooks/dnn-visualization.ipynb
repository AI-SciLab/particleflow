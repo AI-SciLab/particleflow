{
 "cells": [
  {
   "cell_type": "code",
   "execution_count": null,
   "metadata": {},
   "outputs": [],
   "source": [
    "import os\n",
    "os.environ[\"CUDA_VISIBLE_DEVICES\"]=\"-1\"    \n",
    "os.environ[\"KERAS_BACKEND\"] = \"tensorflow\"\n",
    "#os.environ[\"CUDA_VISIBLE_DEVICES\"] = str(2)\n",
    "\n",
    "import uproot\n",
    "import matplotlib\n",
    "import pandas as pd\n",
    "import numpy as np\n",
    "import matplotlib.pyplot as plt\n",
    "import json\n",
    "import networkx as nx\n",
    "#from itertools import combinations\n",
    "#from hausdorff import hausdorff_distance\n",
    "import copy\n",
    "import math\n",
    "import keras\n",
    "import glob\n",
    "import sys\n",
    "import datetime\n",
    "import keras\n",
    "import numba\n",
    "import skimage"
   ]
  },
  {
   "cell_type": "code",
   "execution_count": null,
   "metadata": {},
   "outputs": [],
   "source": [
    "%matplotlib inline"
   ]
  },
  {
   "cell_type": "code",
   "execution_count": null,
   "metadata": {},
   "outputs": [],
   "source": [
    "sys.path += [\"../test\"]"
   ]
  },
  {
   "cell_type": "code",
   "execution_count": null,
   "metadata": {},
   "outputs": [],
   "source": [
    "import training"
   ]
  },
  {
   "cell_type": "code",
   "execution_count": null,
   "metadata": {},
   "outputs": [],
   "source": [
    "image_size = 256\n",
    "block_size = 8\n",
    "nblock = int((image_size/8))"
   ]
  },
  {
   "cell_type": "code",
   "execution_count": null,
   "metadata": {},
   "outputs": [],
   "source": [
    "@numba.njit\n",
    "def to_list(pp_image, pt_cut=0.0):\n",
    "    bins = [\n",
    "        np.linspace(-5,5,image_size + 1),\n",
    "        np.linspace(-5,5,image_size + 1)\n",
    "    ]\n",
    "    \n",
    "    icand = 0\n",
    "    cands = np.zeros((image_size*image_size,3), dtype=np.float32)\n",
    "    for ix in range(pp_image.shape[0]):\n",
    "        for iy in range(pp_image.shape[1]):\n",
    "            p = pp_image[ix, iy]\n",
    "            if p > pt_cut:\n",
    "                eta = bins[0][ix]\n",
    "                phi = bins[1][iy]\n",
    "                cands[icand, 0] = p\n",
    "                cands[icand, 1] = eta\n",
    "                cands[icand, 2] = phi\n",
    "                icand += 1\n",
    "    return cands[:icand]"
   ]
  },
  {
   "cell_type": "code",
   "execution_count": null,
   "metadata": {},
   "outputs": [],
   "source": [
    "Xs_cluster = []\n",
    "Xs_track = []\n",
    "ys_cand = []\n",
    "maxclusters = -1\n",
    "maxtracks = -1\n",
    "maxcands = -1\n",
    "for fn in glob.glob(\"../data/step3_AOD.root\"):\n",
    "    try:\n",
    "        fi = uproot.open(fn)\n",
    "        tree = fi.get(\"pftree\")\n",
    "    except Exception as e:\n",
    "        print(\"Could not open file {0}\".format(fn))\n",
    "        continue\n",
    "    data = tree.arrays(tree.keys())\n",
    "    data = {str(k, 'ascii'): v for k, v in data.items()}\n",
    "    for iev in range(len(tree)):\n",
    "        pt = data[\"pfcands_pt\"][iev]\n",
    "        eta = data[\"pfcands_eta\"][iev]\n",
    "        phi = data[\"pfcands_phi\"][iev]\n",
    "        charge = data[\"pfcands_charge\"][iev]\n",
    "\n",
    "        Xs_cluster += [np.stack([\n",
    "            data[\"clusters_energy\"][iev][:maxclusters],\n",
    "            data[\"clusters_eta\"][iev][:maxclusters],\n",
    "            data[\"clusters_phi\"][iev][:maxclusters],\n",
    "            ], axis=1)\n",
    "        ]\n",
    "        Xs_track += [np.stack([\n",
    "            np.abs(1.0/data[\"tracks_qoverp\"][iev][:maxtracks]),\n",
    "            data[\"tracks_inner_eta\"][iev][:maxtracks],\n",
    "            data[\"tracks_inner_phi\"][iev][:maxtracks],\n",
    "            data[\"tracks_outer_eta\"][iev][:maxtracks],\n",
    "            data[\"tracks_outer_phi\"][iev][:maxtracks],\n",
    "            ], axis=1)\n",
    "        ]\n",
    "        ys_cand += [np.stack([\n",
    "            pt[:maxcands],\n",
    "            eta[:maxcands],\n",
    "            phi[:maxcands],\n",
    "            charge[:maxcands]\n",
    "            ], axis=1)\n",
    "        ]"
   ]
  },
  {
   "cell_type": "code",
   "execution_count": null,
   "metadata": {},
   "outputs": [],
   "source": [
    "model = keras.models.load_model(\"../out/2019-09-24_17-28-32/model.h5\") "
   ]
  },
  {
   "cell_type": "code",
   "execution_count": null,
   "metadata": {},
   "outputs": [],
   "source": [
    "len(Xs_cluster)"
   ]
  },
  {
   "cell_type": "code",
   "execution_count": null,
   "metadata": {},
   "outputs": [],
   "source": [
    "all_clusters = np.vstack(Xs_cluster)\n",
    "all_tracks = np.vstack(Xs_track)"
   ]
  },
  {
   "cell_type": "code",
   "execution_count": null,
   "metadata": {},
   "outputs": [],
   "source": [
    "plt.hist(all_clusters[:, 0], bins=np.linspace(0,60,100));"
   ]
  },
  {
   "cell_type": "code",
   "execution_count": null,
   "metadata": {},
   "outputs": [],
   "source": [
    "plt.hist(all_tracks[:, 0], bins=np.linspace(0,20,100));"
   ]
  },
  {
   "cell_type": "code",
   "execution_count": null,
   "metadata": {},
   "outputs": [],
   "source": [
    "cands_true = []\n",
    "cands_ml = []\n",
    "for i in range(len(Xs_cluster)):\n",
    "    img_in, img_out = training.to_image(i, Xs_cluster, Xs_track, ys_cand, image_size)\n",
    "    \n",
    "    bls = skimage.util.view_as_blocks(img_in, (8, 8, 3))[:, :, 0, :, :, :]\n",
    "    bls = bls.reshape(nblock*nblock, 8, 8, 3)\n",
    "\n",
    "    pred = model.predict(bls, batch_size=100)\n",
    "    \n",
    "    bls_out = pred.reshape((nblock, nblock, 8, 8)).reshape((image_size, image_size))\n",
    "    bls_out[bls_out<0.2] = 0\n",
    "    \n",
    "    cands_ml += [np.stack(sorted(to_list(bls_out), key=lambda x: x[0], reverse=True))]\n",
    "    cands_true += [np.stack(sorted(to_list(img_out), key=lambda x: x[0], reverse=True))]\n",
    "    \n",
    "cands_true_all = np.vstack(cands_true)\n",
    "cands_ml_all = np.vstack(cands_ml)"
   ]
  },
  {
   "cell_type": "code",
   "execution_count": null,
   "metadata": {},
   "outputs": [],
   "source": [
    "num_cands_ml = [len(x) for x in cands_ml]\n",
    "num_cands_true = [len(x) for x in cands_true]"
   ]
  },
  {
   "cell_type": "code",
   "execution_count": null,
   "metadata": {},
   "outputs": [],
   "source": [
    "plt.figure(figsize=(5,5))\n",
    "plt.xlim(0,1200)\n",
    "plt.ylim(0,1200)\n",
    "plt.scatter(num_cands_true, num_cands_ml, marker=\".\", alpha=0.2, label=\"train\")\n",
    "plt.plot([0,1200], [0,1200], color=\"black\")"
   ]
  },
  {
   "cell_type": "code",
   "execution_count": null,
   "metadata": {},
   "outputs": [],
   "source": [
    "plt.figure(figsize=(3*4,4))\n",
    "\n",
    "plt.subplot(1,3,1)\n",
    "bins = np.linspace(0,10,30)\n",
    "plt.hist([c[0] for c in cands_true_all], bins=bins, histtype=\"step\", lw=2, density=1);\n",
    "plt.hist([c[0] for c in cands_ml_all], bins=bins, histtype=\"step\", lw=2, density=1);\n",
    "\n",
    "plt.subplot(1,3,2)\n",
    "bins = np.linspace(-5,5,30)\n",
    "plt.hist([c[1] for c in cands_true_all], bins=bins, histtype=\"step\", lw=2, density=1);\n",
    "plt.hist([c[1] for c in cands_ml_all], bins=bins, histtype=\"step\", lw=2, density=1);\n",
    "\n",
    "plt.subplot(1,3,3)\n",
    "bins = np.linspace(-5,5,30)\n",
    "plt.hist([c[2] for c in cands_true_all], bins=bins, histtype=\"step\", lw=2, density=1);\n",
    "plt.hist([c[2] for c in cands_ml_all], bins=bins, histtype=\"step\", lw=2, density=1);"
   ]
  },
  {
   "cell_type": "code",
   "execution_count": null,
   "metadata": {},
   "outputs": [],
   "source": [
    "plt.imshow(bls_out, cmap=\"binary\", vmin=0, vmax=5)"
   ]
  },
  {
   "cell_type": "code",
   "execution_count": null,
   "metadata": {},
   "outputs": [],
   "source": [
    "plt.imshow(img_out, cmap=\"binary\", vmin=0, vmax=5)"
   ]
  },
  {
   "cell_type": "code",
   "execution_count": null,
   "metadata": {},
   "outputs": [],
   "source": [
    "plt.figure(figsize=(10,10))\n",
    "plt.imshow(img_in[:, :, 0], cmap=\"binary\", vmin=0, vmax=5, interpolation=None)"
   ]
  },
  {
   "cell_type": "code",
   "execution_count": null,
   "metadata": {},
   "outputs": [],
   "source": [
    "bins = np.linspace(0, 20, 20)\n",
    "\n",
    "p = img_in[:, :, 0]\n",
    "plt.hist(p[p>0], bins=bins, histtype=\"step\", lw=2);\n",
    "\n",
    "p = img_in[:, :, 1]\n",
    "plt.hist(p[p>0], bins=bins, histtype=\"step\", lw=2);\n",
    "\n",
    "p = img_in[:, :, 2]\n",
    "plt.hist(p[p>0], bins=bins, histtype=\"step\", lw=2);"
   ]
  },
  {
   "cell_type": "code",
   "execution_count": null,
   "metadata": {},
   "outputs": [],
   "source": [
    "plt.figure(figsize=(10,10))\n",
    "plt.imshow(img_in[:, :, 1], cmap=\"binary\", vmin=0, vmax=5, interpolation=None)"
   ]
  },
  {
   "cell_type": "code",
   "execution_count": null,
   "metadata": {},
   "outputs": [],
   "source": [
    "plt.figure(figsize=(10,10))\n",
    "plt.imshow(img_in[:, :, 2], cmap=\"binary\", vmin=0, vmax=5, interpolation=None)"
   ]
  },
  {
   "cell_type": "code",
   "execution_count": null,
   "metadata": {},
   "outputs": [],
   "source": [
    "fi = open(\"../data/TTbar/step3_AOD_14.npz\", \"rb\")"
   ]
  },
  {
   "cell_type": "code",
   "execution_count": null,
   "metadata": {},
   "outputs": [],
   "source": [
    "data = np.load(fi)"
   ]
  },
  {
   "cell_type": "code",
   "execution_count": null,
   "metadata": {},
   "outputs": [],
   "source": [
    "imgs_in = data[\"data_images_in\"]\n",
    "imgs_out = data[\"data_images_out\"]"
   ]
  },
  {
   "cell_type": "code",
   "execution_count": null,
   "metadata": {},
   "outputs": [],
   "source": [
    "iev = 4000\n",
    "plt.figure(figsize=(2,10))\n",
    "ipl = 1\n",
    "\n",
    "for i in range(iev,iev+10):\n",
    "    plt.subplot(10, 2, ipl)\n",
    "    plt.imshow(imgs_in[i])\n",
    "    \n",
    "    ipl += 1\n",
    "    plt.subplot(10, 2, ipl)\n",
    "    plt.imshow(imgs_out[i, :, :, 0])\n",
    "    \n",
    "    ipl += 1\n",
    "\n",
    "plt.tight_layout()"
   ]
  },
  {
   "cell_type": "code",
   "execution_count": null,
   "metadata": {},
   "outputs": [],
   "source": [
    "plt.imshow(imgs_out[iev, :, :, 0])"
   ]
  },
  {
   "cell_type": "code",
   "execution_count": null,
   "metadata": {},
   "outputs": [],
   "source": []
  }
 ],
 "metadata": {
  "kernelspec": {
   "display_name": "Python 3",
   "language": "python",
   "name": "python3"
  },
  "language_info": {
   "codemirror_mode": {
    "name": "ipython",
    "version": 3
   },
   "file_extension": ".py",
   "mimetype": "text/x-python",
   "name": "python",
   "nbconvert_exporter": "python",
   "pygments_lexer": "ipython3",
   "version": "3.6.8"
  }
 },
 "nbformat": 4,
 "nbformat_minor": 2
}
