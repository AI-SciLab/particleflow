{
 "cells": [
  {
   "cell_type": "code",
   "execution_count": null,
   "metadata": {},
   "outputs": [],
   "source": [
    "import os\n",
    "os.environ[\"CUDA_VISIBLE_DEVICES\"]=\"-1\"    \n",
    "os.environ[\"KERAS_BACKEND\"] = \"tensorflow\"\n",
    "\n",
    "import uproot\n",
    "import matplotlib\n",
    "import pandas as pd\n",
    "import numpy as np\n",
    "import matplotlib.pyplot as plt\n",
    "import json\n",
    "import networkx as nx\n",
    "import copy\n",
    "import math\n",
    "import keras\n",
    "import glob\n",
    "import sys\n",
    "import datetime"
   ]
  },
  {
   "cell_type": "code",
   "execution_count": null,
   "metadata": {},
   "outputs": [],
   "source": [
    "from itertools import combinations"
   ]
  },
  {
   "cell_type": "code",
   "execution_count": null,
   "metadata": {},
   "outputs": [],
   "source": [
    "%matplotlib inline"
   ]
  },
  {
   "cell_type": "code",
   "execution_count": null,
   "metadata": {},
   "outputs": [],
   "source": [
    "def get_index_triu_vector(i, j, vecsize):\n",
    "    k = j - i - 1\n",
    "    k += i*vecsize\n",
    "    missing = int(i*(i+1)/2)\n",
    "    k -= missing\n",
    "    return k"
   ]
  },
  {
   "cell_type": "code",
   "execution_count": 60,
   "metadata": {},
   "outputs": [],
   "source": [
    "#This file created using test/ntuplizer.py\n",
    "fn = \"/storage/user/jpata/particleflow/data/testing/step3_AOD_ntuple.root\"\n",
    "fi = uproot.open(fn)\n",
    "tree = fi.get(\"pftree\")\n",
    "data = tree.arrays(tree.keys())\n",
    "data = {str(k, 'ascii'): v for k, v in data.items()}"
   ]
  },
  {
   "cell_type": "markdown",
   "metadata": {},
   "source": [
    "## Full event"
   ]
  },
  {
   "cell_type": "code",
   "execution_count": null,
   "metadata": {},
   "outputs": [],
   "source": [
    "iev=0\n",
    "\n",
    "#remove tracks for which the \n",
    "trks_outer_valid = (data[\"tracks_outer_eta\"][iev]!= 0) & (data[\"tracks_outer_phi\"][iev]!= 0)\n",
    "trks_inner_valid = (data[\"tracks_inner_eta\"][iev]!= 0) & (data[\"tracks_inner_phi\"][iev]!= 0)\n",
    "\n",
    "plt.figure(figsize=(20, 20))\n",
    "plt.scatter(data[\"clusters_eta\"][iev], data[\"clusters_phi\"][iev], marker=\"s\", label=\"cluster (N={0})\".format(len(data[\"clusters_eta\"][iev])))\n",
    "plt.scatter(data[\"tracks_eta\"][iev], data[\"tracks_phi\"][iev], marker=\"x\", label=\"general track (N={0})\".format(len(data[\"tracks_eta\"][iev])))\n",
    "plt.scatter(data[\"tracks_inner_eta\"][iev][trks_inner_valid], data[\"tracks_inner_phi\"][iev][trks_inner_valid], marker=\"x\", label=\"inner track (N={0})\".format(np.sum(trks_inner_valid)))\n",
    "plt.scatter(data[\"tracks_outer_eta\"][iev][trks_outer_valid], data[\"tracks_outer_phi\"][iev][trks_outer_valid], marker=\"x\", label=\"outer track (N={0})\".format(np.sum(trks_outer_valid)))\n",
    "plt.scatter(data[\"pfcands_eta\"][iev], data[\"pfcands_phi\"][iev], marker=\"o\", alpha=0.2, s=100, color=\"black\", label=\"candidate (N={0})\".format(len(data[\"pfcands_eta\"][iev])))\n",
    "plt.scatter(data[\"genparticles_eta\"][iev], data[\"genparticles_phi\"][iev], marker=\"o\", alpha=0.2, s=200, color=\"purple\", label=\"genparticle (N={0})\".format(len(data[\"genparticles_eta\"][iev])))\n",
    "\n",
    "plt.legend()"
   ]
  },
  {
   "cell_type": "markdown",
   "metadata": {},
   "source": [
    "## Elements to candidates"
   ]
  },
  {
   "cell_type": "code",
   "execution_count": null,
   "metadata": {},
   "outputs": [],
   "source": [
    "#get the list of element (iblock, ielem) to candidate associations\n",
    "linktree = fi.get(\"linktree_elemtocand\")\n",
    "data_elemtocand = linktree.arrays(linktree.keys())\n",
    "data_elemtocand = {str(k, 'ascii'): v for k, v in data_elemtocand.items()}"
   ]
  },
  {
   "cell_type": "code",
   "execution_count": null,
   "metadata": {},
   "outputs": [],
   "source": [
    "pfgraph = nx.Graph()\n",
    "\n",
    "node_pos = {}\n",
    "node_colors = {}\n",
    "\n",
    "for i in range(len(data[\"clusters_iblock\"][iev])):\n",
    "    ibl = data[\"clusters_iblock\"][iev][i]\n",
    "    iel = data[\"clusters_ielem\"][iev][i]\n",
    "    this = (\"E\", ibl, iel)\n",
    "    node_pos[this] = data[\"clusters_eta\"][iev][i], data[\"clusters_phi\"][iev][i]\n",
    "    node_colors[this] = \"green\"\n",
    "    pfgraph.add_node(this)\n",
    "    \n",
    "for i in range(len(data[\"tracks_iblock\"][iev])):\n",
    "    ibl = data[\"tracks_iblock\"][iev][i]\n",
    "    iel = data[\"tracks_ielem\"][iev][i]\n",
    "    this = (\"E\", ibl, iel)\n",
    "    #node_pos[this] = data[\"tracks_eta\"][iev][i], data[\"tracks_phi\"][iev][i]\n",
    "    #node_pos[this] = data[\"tracks_inner_eta\"][iev][i], data[\"tracks_inner_phi\"][iev][i]\n",
    "    node_pos[this] = data[\"tracks_outer_eta\"][iev][i], data[\"tracks_outer_phi\"][iev][i]\n",
    "    if node_pos[this][0] == 0 and node_pos[this][1] == 0:\n",
    "        node_pos[this] = data[\"tracks_inner_eta\"][iev][i], data[\"tracks_inner_phi\"][iev][i]\n",
    "    if node_pos[this][0] == 0 and node_pos[this][1] == 0:\n",
    "        node_pos[this] = data[\"tracks_eta\"][iev][i], data[\"tracks_phi\"][iev][i]\n",
    "    node_colors[this] = \"r\"\n",
    "    pfgraph.add_node(this)\n",
    "    \n",
    "for i in range(len(data[\"pfcands_iblock\"][iev])):\n",
    "    this = (\"C\", i)\n",
    "    node_pos[this] = data[\"pfcands_eta\"][iev][i], data[\"pfcands_phi\"][iev][i]\n",
    "    node_colors[this] = \"black\"\n",
    "    pfgraph.add_node(this)\n",
    "    \n",
    "for i in range(len(data_elemtocand[\"linkdata_elemtocand_ielem\"][iev])):\n",
    "    ibl = data_elemtocand[\"linkdata_elemtocand_iblock\"][iev][i]\n",
    "    iel = data_elemtocand[\"linkdata_elemtocand_ielem\"][iev][i]\n",
    "    ic = data_elemtocand[\"linkdata_elemtocand_icand\"][iev][i]\n",
    "    u = (\"E\", ibl, iel)\n",
    "    v = (\"C\", ic)\n",
    "    if u in pfgraph.nodes and v in pfgraph.nodes:\n",
    "        p0 = node_pos[u]\n",
    "        p1 = node_pos[v]\n",
    "        dist = math.sqrt((p0[0]-p1[0])**2 + (p0[1]-p1[1])**2)\n",
    "        pfgraph.add_edge(u, v, weight=dist)"
   ]
  },
  {
   "cell_type": "code",
   "execution_count": null,
   "metadata": {},
   "outputs": [],
   "source": [
    "plt.figure(figsize=(10,10))\n",
    "nx.draw(pfgraph, pos=node_pos, node_size=5, alpha=0.2, node_color=[node_colors[n] for n in pfgraph.nodes])\n",
    "\n",
    "plt.axis('on')\n",
    "plt.xlabel(\"$\\eta$\")\n",
    "plt.ylabel(\"$\\phi$\")"
   ]
  },
  {
   "cell_type": "code",
   "execution_count": null,
   "metadata": {},
   "outputs": [],
   "source": [
    "np.unique(data_elemtocand[\"linkdata_elemtocand_icand\"][iev])"
   ]
  },
  {
   "cell_type": "code",
   "execution_count": null,
   "metadata": {},
   "outputs": [],
   "source": [
    "sel = data_elemtocand[\"linkdata_elemtocand_icand\"][iev] == 1"
   ]
  },
  {
   "cell_type": "code",
   "execution_count": null,
   "metadata": {},
   "outputs": [],
   "source": [
    "data_elemtocand[\"linkdata_elemtocand_iblock\"][iev][sel]"
   ]
  },
  {
   "cell_type": "code",
   "execution_count": null,
   "metadata": {},
   "outputs": [],
   "source": [
    "data_elemtocand[\"linkdata_elemtocand_ielem\"][iev][sel]"
   ]
  },
  {
   "cell_type": "code",
   "execution_count": null,
   "metadata": {},
   "outputs": [],
   "source": [
    "s2 = data[\"clusters_iblock\"][iev] == 13\n",
    "data[\"clusters_ielem\"][iev][s2]"
   ]
  },
  {
   "cell_type": "code",
   "execution_count": null,
   "metadata": {},
   "outputs": [],
   "source": [
    "data[\"clusters_iblock\"][iev]"
   ]
  },
  {
   "cell_type": "code",
   "execution_count": null,
   "metadata": {},
   "outputs": [],
   "source": [
    "#There may be multiple PFCandidates assigned to a certain block,element pair\n",
    "#Choose the highest pt candidate\n",
    "def assign_cand(iblocks, ielems, cands_pt, _i, dd):\n",
    "    icands = dd.get((iblocks[_i], ielems[_i]), [])\n",
    "    pts = [cands_pt[j] for j in icands]\n",
    "    icands_sorted = sorted(zip(icands, pts), reverse=True, key=lambda x: x[1])\n",
    "    if len(icands_sorted) > 0:\n",
    "        return icands_sorted[0][0]\n",
    "    else:\n",
    "        return -1\n",
    "    \n",
    "def prepare_data(data, data_elemtocand, iev):\n",
    "    \n",
    "    bls = data_elemtocand[\"linkdata_elemtocand_iblock\"][iev]\n",
    "    els = data_elemtocand[\"linkdata_elemtocand_ielem\"][iev]\n",
    "    cnds = data_elemtocand[\"linkdata_elemtocand_icand\"][iev]\n",
    "\n",
    "    dd = {}\n",
    "    for _i in range(len(cnds)):\n",
    "        k = (bls[_i], els[_i])\n",
    "        if not k in dd:\n",
    "            dd[k] = []\n",
    "        dd[k] += [cnds[_i]]\n",
    "    \n",
    "    #clusters\n",
    "    X1 = np.vstack([\n",
    "        data[\"clusters_type\"][iev],\n",
    "        data[\"clusters_energy\"][iev],\n",
    "        data[\"clusters_eta\"][iev],\n",
    "        data[\"clusters_phi\"][iev]]\n",
    "    ).T\n",
    "    ys1 = np.array([assign_cand(data[\"clusters_iblock\"][iev], data[\"clusters_ielem\"][iev], data[\"pfcands_pt\"][iev], i, dd) for i in range(len(data[\"clusters_phi\"][iev]))])\n",
    "    \n",
    "    #tracks\n",
    "    X2 = np.vstack([\n",
    "        10*np.ones_like(data[\"tracks_qoverp\"][iev]),\n",
    "        data[\"tracks_qoverp\"][iev],\n",
    "        data[\"tracks_eta\"][iev],\n",
    "        data[\"tracks_phi\"][iev],\n",
    "        data[\"tracks_inner_eta\"][iev],\n",
    "        data[\"tracks_inner_phi\"][iev],\n",
    "        data[\"tracks_outer_eta\"][iev],\n",
    "        data[\"tracks_outer_phi\"][iev]]\n",
    "    ).T\n",
    "    ys2 = np.array([assign_cand(data[\"tracks_iblock\"][iev], data[\"tracks_ielem\"][iev], data[\"pfcands_pt\"][iev], i, dd) for i in range(len(data[\"tracks_phi\"][iev]))])\n",
    "\n",
    "    X1p = np.pad(X1, ((0,0),(0, X2.shape[1] - X1.shape[1])), mode=\"constant\")\n",
    "    X = np.vstack([X1p, X2])\n",
    "    y = np.concatenate([ys1, ys2])\n",
    "    \n",
    "    cand_data = np.vstack([\n",
    "        data[\"pfcands_pdgid\"][iev],\n",
    "        data[\"pfcands_pt\"][iev],\n",
    "        data[\"pfcands_eta\"][iev],\n",
    "        data[\"pfcands_phi\"][iev]\n",
    "    ]).T\n",
    "    \n",
    "    return X, y, cand_data"
   ]
  },
  {
   "cell_type": "code",
   "execution_count": null,
   "metadata": {},
   "outputs": [],
   "source": [
    "s = data_elemtocand[\"linkdata_elemtocand_icand\"][iev] == 1\n",
    "data_elemtocand[\"linkdata_elemtocand_iblock\"][iev][s], data_elemtocand[\"linkdata_elemtocand_ielem\"][iev][s]"
   ]
  },
  {
   "cell_type": "code",
   "execution_count": null,
   "metadata": {
    "scrolled": false
   },
   "outputs": [],
   "source": [
    "X, y, cand_data = prepare_data(data, data_elemtocand, iev)"
   ]
  },
  {
   "cell_type": "code",
   "execution_count": null,
   "metadata": {
    "scrolled": false
   },
   "outputs": [],
   "source": [
    "for yval in np.unique(y)[:100]:\n",
    "    if yval >= 0:\n",
    "        print(\"cand={0}\".format(yval), \"eltypes={0}\".format(X[y==yval, 0]), \"cand_data={0}\".format(list(cand_data[yval])))"
   ]
  },
  {
   "cell_type": "code",
   "execution_count": null,
   "metadata": {},
   "outputs": [],
   "source": [
    "sub_graphs = list(nx.connected_component_subgraphs(pfgraph))"
   ]
  },
  {
   "cell_type": "code",
   "execution_count": null,
   "metadata": {},
   "outputs": [],
   "source": [
    "plt.hist([sg.size() for sg in sub_graphs], bins=np.linspace(0,20,21))\n",
    "plt.yscale(\"log\")\n",
    "plt.xticks(np.linspace(0,20,21))\n",
    "plt.xlabel(\"subgraph size\")\n",
    "plt.ylabel(\"number of subgraphs\")"
   ]
  },
  {
   "cell_type": "code",
   "execution_count": null,
   "metadata": {},
   "outputs": [],
   "source": [
    "plt.figure(figsize=(10,10))\n",
    "for i in range(16):\n",
    "    \n",
    "    sg = sub_graphs[i]\n",
    "    ax = plt.subplot(4,4,i+1)\n",
    "    nx.draw(sg, node_color=[node_colors[n] for n in sg.nodes], ax=ax, node_size=20)\n",
    "    plt.axis('on')\n",
    "#     plt.xlabel(\"$\\eta$\")\n",
    "#     plt.ylabel(\"$\\phi$\")\n",
    "    plt.title(\"size={0}\".format(sg.size()))\n",
    "plt.tight_layout()"
   ]
  },
  {
   "cell_type": "code",
   "execution_count": null,
   "metadata": {},
   "outputs": [],
   "source": [
    "bins = np.linspace(0,5000,20)\n",
    "plt.hist(data[\"nclusters\"], bins=bins, histtype=\"step\", lw=2, label=\"clusters\");\n",
    "plt.hist(data[\"ntracks\"], bins=bins, histtype=\"step\", lw=2, label=\"tracks\");\n",
    "plt.hist(data[\"npfcands\"], bins=bins, histtype=\"step\", lw=2, label=\"PF candidates\");\n",
    "plt.legend(loc=\"best\")\n",
    "plt.xlabel(\"number of objects\")"
   ]
  },
  {
   "cell_type": "markdown",
   "metadata": {},
   "source": [
    "## Detector subsystems"
   ]
  },
  {
   "cell_type": "code",
   "execution_count": null,
   "metadata": {},
   "outputs": [],
   "source": [
    "#Event number to plot\n",
    "i = 0\n",
    "\n",
    "#minimum pt of the pf candidate\n",
    "pfcand_ptcut = 2\n",
    "\n",
    "\n",
    "c_eta = data[\"clusters_eta\"]\n",
    "c_phi = data[\"clusters_phi\"]\n",
    "c_en = data[\"clusters_energy\"]\n",
    "c_type = data[\"clusters_type\"]\n",
    "\n",
    "t_o_eta = data[\"tracks_outer_eta\"]\n",
    "t_o_phi = data[\"tracks_outer_phi\"]\n",
    "t_i_eta = data[\"tracks_inner_eta\"]\n",
    "t_i_phi = data[\"tracks_inner_phi\"]\n",
    "t_q = np.sign(data[\"tracks_qoverp\"])\n",
    "t_en = 1.0/np.abs(data[\"tracks_qoverp\"])\n",
    "\n",
    "cand_eta = data[\"pfcands_eta\"]\n",
    "cand_phi = data[\"pfcands_phi\"]\n",
    "cand_en = data[\"pfcands_pt\"]\n",
    "cand_charge = data[\"pfcands_charge\"]\n",
    "\n",
    "g_eta = data[\"genparticles_eta\"]\n",
    "g_phi = data[\"genparticles_phi\"]\n",
    "g_en = data[\"genparticles_pt\"]\n",
    "\n",
    "plt.figure(figsize=(15,10))\n",
    "\n",
    "ax = plt.subplot(2,3,1)\n",
    "for ct in [2,3,4,5,8,9,11]:\n",
    "    cluster_type_sel = c_type[i]==ct\n",
    "    plt.scatter(\n",
    "        c_eta[i][cluster_type_sel],\n",
    "        c_phi[i][cluster_type_sel],\n",
    "        s=c_en[i][cluster_type_sel],\n",
    "        marker=\"s\", alpha=0.5, label=\"{0}\".format(ct))\n",
    "plt.xlabel(\"$\\eta$\")\n",
    "plt.ylabel(\"$\\phi$\")\n",
    "plt.title(\"calo clusters (N={0})\".format(len(c_eta[i])))\n",
    "plt.xlim(-5,5)\n",
    "plt.ylim(-5,5)\n",
    "#plt.legend(loc=\"best\", ncol=2)\n",
    "\n",
    "ax = plt.subplot(2,3,2)\n",
    "for track_charge in [-1, 1]:\n",
    "    track_charge_sel = t_q[i] == track_charge\n",
    "    plt.scatter(t_o_eta[i][track_charge_sel], t_o_phi[i][track_charge_sel], s=t_en[i][track_charge_sel], marker=\"o\", alpha=0.5)\n",
    "plt.xlabel(\"outer $\\eta$\")\n",
    "plt.ylabel(\"outer $\\phi$\")\n",
    "plt.title(\"tracks outer hit (N={0})\".format(len(t_o_eta[i])))\n",
    "plt.xlim(-5,5)\n",
    "plt.ylim(-5,5)\n",
    "\n",
    "ax = plt.subplot(2,3,3)\n",
    "for track_charge in [-1, 1]:\n",
    "    track_charge_sel = t_q[i] == track_charge\n",
    "    plt.scatter(t_i_eta[i][track_charge_sel], t_i_phi[i][track_charge_sel], s=t_en[i][track_charge_sel], marker=\"o\", alpha=0.5)\n",
    "plt.xlabel(\"inner $\\eta$\")\n",
    "plt.ylabel(\"inner $\\phi$\")\n",
    "plt.title(\"tracks inner hit (N={0})\".format(len(t_o_eta[i])))\n",
    "plt.xlim(-5,5)\n",
    "plt.ylim(-5,5)\n",
    "\n",
    "ax = plt.subplot(2,3,4)\n",
    "for _cand_charge in [-1, 1, 0]:\n",
    "    cand_charge_sel = cand_charge[i] == _cand_charge\n",
    "    plt.scatter(cand_eta[i][cand_charge_sel], cand_phi[i][cand_charge_sel], s=cand_en[i][cand_charge_sel], marker=\"o\", alpha=0.5)\n",
    "plt.xlabel(\"$\\eta$\")\n",
    "plt.ylabel(\"$\\phi$\")\n",
    "plt.title(\"PF candidates (N={0})\".format(len(cand_eta[i])))\n",
    "plt.xlim(-5,5)\n",
    "plt.ylim(-5,5)\n",
    "\n",
    "ax = plt.subplot(2,3,5)\n",
    "cand_pt_sel = (cand_en[i] > pfcand_ptcut)\n",
    "for _cand_charge in [-1, 1, 0]:\n",
    "    cand_charge_sel = (cand_charge[i] == _cand_charge) & (cand_pt_sel)\n",
    "    plt.scatter(\n",
    "        cand_eta[i][cand_charge_sel],\n",
    "        cand_phi[i][cand_charge_sel],\n",
    "        s=cand_en[i][cand_charge_sel], marker=\"o\", alpha=0.5)\n",
    "plt.xlabel(\"$\\eta$\")\n",
    "plt.ylabel(\"$\\phi$\")\n",
    "plt.title(\"PF candidates with $p_T > {0}$ GeV, (N={1})\".format(pfcand_ptcut, len(cand_eta[i][cand_pt_sel])))\n",
    "plt.xlim(-5,5)\n",
    "plt.ylim(-5,5)\n",
    "\n",
    "ax = plt.subplot(2,3,6)\n",
    "plt.scatter(g_eta[i], g_phi[i], s=g_en[i], marker=\"x\", alpha=0.5)\n",
    "plt.xlabel(\"$\\eta$\")\n",
    "plt.ylabel(\"$\\phi$\")\n",
    "plt.title(\"genparticles (N={0})\".format(len(g_eta[i])))\n",
    "\n",
    "plt.xlim(-5,5)\n",
    "plt.ylim(-5,5)\n",
    "plt.tight_layout()"
   ]
  },
  {
   "cell_type": "code",
   "execution_count": null,
   "metadata": {},
   "outputs": [],
   "source": [
    "from collections import Counter"
   ]
  },
  {
   "cell_type": "code",
   "execution_count": null,
   "metadata": {},
   "outputs": [],
   "source": [
    "all_blocks_counts_0 = []\n",
    "all_blocks_counts_1 = []\n",
    "all_blocks_counts_2 = []\n",
    "all_blocks_counts_3 = []\n",
    "\n",
    "for iev in range(len(data[\"clusters_iblock\"])):\n",
    "    bls = list(data[\"clusters_iblock\"][iev])\n",
    "    bls2 = list(data[\"tracks_iblock\"][iev])\n",
    "    bls_counts = sorted([v for k, v in Counter(bls+bls2).items()], reverse=True)\n",
    "    all_blocks_counts_0 += [bls_counts[0]]\n",
    "    all_blocks_counts_1 += [bls_counts[1]]\n",
    "    all_blocks_counts_2 += [bls_counts[2]]\n",
    "    all_blocks_counts_3 += [bls_counts[3]]"
   ]
  },
  {
   "cell_type": "code",
   "execution_count": null,
   "metadata": {},
   "outputs": [],
   "source": [
    "len(np.unique(list(data[\"clusters_iblock\"][iev]) + list(data[\"tracks_iblock\"][iev])))"
   ]
  },
  {
   "cell_type": "code",
   "execution_count": null,
   "metadata": {},
   "outputs": [],
   "source": [
    "bins = np.linspace(0,1.5*max(all_blocks_counts_0), 100)\n",
    "plt.hist(all_blocks_counts_0, bins=bins, histtype=\"step\", lw=2, label=\"first\")\n",
    "plt.hist(all_blocks_counts_1, bins=bins, histtype=\"step\", lw=2, label=\"second\")\n",
    "plt.hist(all_blocks_counts_2, bins=bins, histtype=\"step\", lw=2, label=\"third\")\n",
    "\n",
    "plt.yscale(\"log\")\n",
    "plt.legend(loc=\"best\")\n",
    "plt.xlabel(\"elements per block\")"
   ]
  },
  {
   "cell_type": "markdown",
   "metadata": {},
   "source": [
    "# Elements to blocks"
   ]
  },
  {
   "cell_type": "code",
   "execution_count": null,
   "metadata": {},
   "outputs": [],
   "source": [
    "tree2 = fi.get(\"linktree\")\n",
    "linkdata = tree2.arrays(tree2.keys())\n",
    "linkdata = {str(k, 'ascii'): v for k, v in linkdata.items()}"
   ]
  },
  {
   "cell_type": "code",
   "execution_count": null,
   "metadata": {
    "scrolled": false
   },
   "outputs": [],
   "source": [
    "pfgraph2 = nx.Graph()\n",
    "\n",
    "items_block = {}\n",
    "node_pos = {}\n",
    "node_colors = {}\n",
    "node_sizes = {}\n",
    "node_types = {}\n",
    "\n",
    "cluster_colors = {\n",
    "    3: \"blue\",\n",
    "    2: \"blue\",\n",
    "    5: \"red\",\n",
    "    4: \"green\",\n",
    "    8: \"orange\",\n",
    "    9: \"orange\",\n",
    "    11: \"purple\",\n",
    "}\n",
    "\n",
    "for icluster, iblock in enumerate(data[\"clusters_iblock\"][iev]):\n",
    "    this = (iblock, data[\"clusters_ielem\"][iev][icluster])\n",
    "    pfgraph2.add_node(this)\n",
    "    \n",
    "    node_pos[this] = (data[\"clusters_eta\"][iev][icluster], data[\"clusters_phi\"][iev][icluster])\n",
    "    tp = data[\"clusters_type\"][iev][icluster]\n",
    "    node_colors[this] = cluster_colors[tp]\n",
    "    node_sizes[this] = data[\"clusters_energy\"][iev][icluster]\n",
    "    if not iblock in items_block.keys():\n",
    "        items_block[iblock] = []\n",
    "    items_block[iblock] += [this]\n",
    "    node_types[this] = tp\n",
    "    \n",
    "for itrack, iblock in enumerate(data[\"tracks_iblock\"][iev]):\n",
    "    this = (iblock, data[\"tracks_ielem\"][iev][itrack])\n",
    "    pfgraph2.add_node(this)\n",
    "    \n",
    "    p = abs(data[\"tracks_qoverp\"][iev][itrack])\n",
    "    \n",
    "    node_pos[this] = data[\"tracks_outer_eta\"][iev][itrack], data[\"tracks_outer_phi\"][iev][itrack]\n",
    "    if node_pos[this][0] == 0 and node_pos[this][1] == 0:\n",
    "        node_pos[this] = data[\"tracks_inner_eta\"][iev][itrack], data[\"tracks_inner_phi\"][iev][itrack]\n",
    "    if node_pos[this][0] == 0 and node_pos[this][1] == 0:\n",
    "        node_pos[this] = data[\"tracks_eta\"][iev][itrack], data[\"tracks_phi\"][iev][itrack]\n",
    "        \n",
    "    node_colors[this] = \"black\"\n",
    "    node_sizes[this] = 10*p\n",
    "    node_types[this] = 0\n",
    "\n",
    "    if not iblock in items_block.keys():\n",
    "        items_block[iblock] = []\n",
    "    items_block[iblock] += [this]\n",
    "    \n",
    "for iblock, items in items_block.items():\n",
    "    for comb in combinations(items, 2):\n",
    "        pfgraph2.add_edge(comb[0], comb[1])"
   ]
  },
  {
   "cell_type": "code",
   "execution_count": null,
   "metadata": {},
   "outputs": [],
   "source": [
    "plt.figure(figsize=(10, 10))\n",
    "plt.xlim(-5,5)\n",
    "plt.ylim(-5,5)\n",
    "nx.draw(pfgraph2,\n",
    "        pos=node_pos,\n",
    "        node_size=[node_sizes[n] for n in pfgraph2.nodes],\n",
    "        node_color=[node_colors[n] for n in pfgraph2.nodes],\n",
    "        edgelist=[],\n",
    "        node_shape=\"s\",\n",
    "        alpha=0.5, width=0.05\n",
    ")\n",
    "plt.title(\"PF elements (N={0})\".format(len(pfgraph2.nodes)))\n",
    "plt.axis('on')\n",
    "plt.xlabel(\"$\\eta$\")\n",
    "plt.ylabel(\"$\\phi$\")"
   ]
  },
  {
   "cell_type": "code",
   "execution_count": null,
   "metadata": {},
   "outputs": [],
   "source": [
    "plt.figure(figsize=(10, 10))\n",
    "plt.xlim(-5,5)\n",
    "plt.ylim(-5,5)\n",
    "nx.draw(pfgraph2,\n",
    "        pos=node_pos,\n",
    "        node_size=[node_sizes[n] for n in pfgraph2.nodes],\n",
    "        node_color=[node_colors[n] for n in pfgraph2.nodes],\n",
    "        node_shape=\"s\",\n",
    "        alpha=0.5, width=0.001\n",
    ")\n",
    "#plt.xticks(np.arange(-5,5,0.3))\n",
    "#plt.yticks(np.arange(-5,5,0.3))\n",
    "\n",
    "#plt.grid()\n",
    "# plt.xlabel(\"cluster x / scaled track px\")\n",
    "# plt.ylabel(\"cluster y / scaled track px\")\n",
    "# plt.title(\"PF elements with blocks\")\n",
    "plt.axis('on')\n",
    "plt.xlabel(\"$\\eta$\")\n",
    "plt.ylabel(\"$\\phi$\")"
   ]
  },
  {
   "cell_type": "code",
   "execution_count": null,
   "metadata": {
    "scrolled": false
   },
   "outputs": [],
   "source": [
    "biggest_clusters = sorted([\n",
    "    (k, items_block[k]) for k in items_block.keys()], reverse=True, key=lambda x: len(x[1])\n",
    ")[:4]\n",
    "\n",
    "plt.figure(figsize=(10, 10))\n",
    "iplot = 1\n",
    "\n",
    "subs = []\n",
    "for iblock, elems in biggest_clusters:\n",
    "    nelem = len(elems)\n",
    "    \n",
    "    sub = nx.Graph()\n",
    "    sub.add_nodes_from(items_block[iblock])\n",
    "    \n",
    "    n = linkdata[\"linkdata_nelem\"][iev][linkdata[\"linkdata_iblock\"][iev] == iblock]\n",
    "    ks = linkdata[\"linkdata_k\"][iev][linkdata[\"linkdata_iblock\"][iev] == iblock]\n",
    "    dists = linkdata[\"linkdata_distance\"][iev][linkdata[\"linkdata_iblock\"][iev] == iblock]\n",
    "    kdict = {k: i for i, k in enumerate(ks)}\n",
    "\n",
    "    vecsize = n[0]\n",
    "    inds = np.triu_indices(n=vecsize, m=vecsize, k=0.1)\n",
    "    inds2 = [get_index_triu_vector(i, j, vecsize) for i, j in zip(inds[0], inds[1])]\n",
    "    for i, ind2 in enumerate(inds2):\n",
    "        if ind2 in kdict.keys():\n",
    "            idx_triu_i = inds[0][i]\n",
    "            idx_triu_j = inds[1][i]\n",
    "            if idx_triu_j > idx_triu_i:\n",
    "                tmp = idx_triu_i\n",
    "                idx_triu_i = idx_triu_j\n",
    "                idx_triu_j = tmp\n",
    "            u = (iblock, idx_triu_i)\n",
    "            v = (iblock, idx_triu_j)\n",
    "            if u in sub.nodes and v in sub.nodes:\n",
    "                sub.add_edge(u, v, weight=dists[kdict[ind2]])\n",
    "    subs += [sub]\n",
    "    \n",
    "    ax = plt.subplot(2,2,iplot)\n",
    "\n",
    "    plt.xlim(-5, 5)\n",
    "    plt.ylim(-5, 5)\n",
    "\n",
    "    nx.draw(sub,\n",
    "            pos=node_pos,\n",
    "            node_size=[2*node_sizes[n] for n in sub.nodes],\n",
    "            node_color=[node_colors[n] for n in sub.nodes],\n",
    "            node_shape=\"s\",\n",
    "            alpha=0.5, width=0.05, ax=ax\n",
    "    )\n",
    "    \n",
    "    pfcand_inds = (data[\"pfcands_iblock\"][iev] == iblock)\n",
    "    pf_pt = data[\"pfcands_pt\"][iev][pfcand_inds]\n",
    "    pf_phi = data[\"pfcands_phi\"][iev][pfcand_inds]\n",
    "    \n",
    "    plt.text(0.0, 1.0,\n",
    "        \"ibl={0} Nel={1}, Npf={2}, <pt>={3:.2f}\".format(\n",
    "            iblock, nelem, len(pf_pt), np.mean(pf_pt)),\n",
    "            transform=ax.transAxes, verticalalignment=\"bottom\")\n",
    "#     pf_x = 5*pf_pt * np.cos(pf_phi)\n",
    "#     pf_y = 5*pf_pt * np.sin(pf_phi)\n",
    "    \n",
    "#     for ipf in range(len(pf_x)):\n",
    "#         plt.plot([0, pf_x[ipf]], [0, pf_y[ipf]], color=\"blue\")\n",
    "    plt.axis('on')\n",
    "    iplot += 1\n",
    "    \n",
    "plt.tight_layout()"
   ]
  }
 ],
 "metadata": {
  "kernelspec": {
   "display_name": "Python 3",
   "language": "python",
   "name": "python3"
  },
  "language_info": {
   "codemirror_mode": {
    "name": "ipython",
    "version": 3
   },
   "file_extension": ".py",
   "mimetype": "text/x-python",
   "name": "python",
   "nbconvert_exporter": "python",
   "pygments_lexer": "ipython3",
   "version": "3.6.8"
  }
 },
 "nbformat": 4,
 "nbformat_minor": 2
}
